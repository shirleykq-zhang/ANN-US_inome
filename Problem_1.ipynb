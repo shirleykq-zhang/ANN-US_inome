{
  "nbformat": 4,
  "nbformat_minor": 0,
  "metadata": {
    "kernelspec": {
      "display_name": "Python 3",
      "language": "python",
      "name": "python3"
    },
    "language_info": {
      "codemirror_mode": {
        "name": "ipython",
        "version": 3
      },
      "file_extension": ".py",
      "mimetype": "text/x-python",
      "name": "python",
      "nbconvert_exporter": "python",
      "pygments_lexer": "ipython3",
      "version": "3.6.5"
    },
    "colab": {
      "name": "Problem 1.ipynb",
      "provenance": [],
      "collapsed_sections": [],
      "include_colab_link": true
    }
  },
  "cells": [
    {
      "cell_type": "markdown",
      "metadata": {
        "id": "view-in-github",
        "colab_type": "text"
      },
      "source": [
        "<a href=\"https://colab.research.google.com/github/shirleykq-zhang/ANN-US_inome/blob/main/Problem_1.ipynb\" target=\"_parent\"><img src=\"https://colab.research.google.com/assets/colab-badge.svg\" alt=\"Open In Colab\"/></a>"
      ]
    },
    {
      "cell_type": "markdown",
      "metadata": {
        "id": "vG0wYRvQUVkA"
      },
      "source": [
        "# Instructions\n",
        "\n",
        "This notebook contains several exercises to practice debugging neural network.  Each network below contains some issue and you have to use the tools you've learned to debug the issue."
      ]
    },
    {
      "cell_type": "code",
      "metadata": {
        "ExecuteTime": {
          "end_time": "2018-09-14T00:59:51.697918Z",
          "start_time": "2018-09-14T00:59:49.288987Z"
        },
        "id": "3L2I6Rx-UVkF"
      },
      "source": [
        "from tensorflow import keras\n",
        "import numpy as np\n",
        "\n",
        "from keras.models import Sequential\n",
        "from keras.layers import Dense, Activation\n",
        "from keras.datasets import mnist\n",
        "from keras.callbacks import TensorBoard\n",
        "from keras.datasets import boston_housing\n",
        "from sklearn.preprocessing import StandardScaler\n",
        "\n",
        "# from keras.optimizers import Adam\n",
        "# from keras.utils import to_categorical\n",
        "from tensorflow.keras.optimizers import Adam\n",
        "from tensorflow.keras.utils import to_categorical"
      ],
      "execution_count": null,
      "outputs": []
    },
    {
      "cell_type": "markdown",
      "metadata": {
        "id": "ycAtPbYfUVkQ"
      },
      "source": [
        "# Exercise 1"
      ]
    },
    {
      "cell_type": "code",
      "metadata": {
        "ExecuteTime": {
          "end_time": "2018-09-14T00:59:51.793690Z",
          "start_time": "2018-09-14T00:59:51.700860Z"
        },
        "id": "3Cr4dSrHUVkS"
      },
      "source": [
        "# Load Datset\n",
        "(x_train, y_train), (x_test, y_test) = boston_housing.load_data()\n",
        "scalar = StandardScaler()\n",
        "x_train2 = scalar.fit_transform(x_train)\n",
        "x_test2 = scalar.transform(x_test)\n",
        "\n",
        "print(\"Training Dataset Size: \", x_train2.shape)\n",
        "print(\"Training Labels Size: \", y_train.shape)\n",
        "print(\"Testing Dataset Size: \", x_test2.shape)\n",
        "print(\"Testing Labels Size: \", y_test.shape)\n",
        "\n",
        "model1 = Sequential()\n",
        "model1.add(Dense(15, activation=\"relu\", input_dim=13))\n",
        "model1.add(Dense(15, activation=\"relu\"))\n",
        "model1.add(Dense(15, activation=\"relu\"))\n",
        "model1.add(Dense(1, activation=\"relu\"))\n",
        "\n",
        "model1.summary()"
      ],
      "execution_count": null,
      "outputs": []
    },
    {
      "cell_type": "code",
      "metadata": {
        "ExecuteTime": {
          "end_time": "2018-09-14T01:00:05.015670Z",
          "start_time": "2018-09-14T00:59:51.797000Z"
        },
        "id": "uLV9yb3TUVkZ"
      },
      "source": [
        "model1.compile(loss='mae', optimizer=Adam(lr=0.01))\n",
        "callbacks = [\n",
        "    TensorBoard(log_dir='./exercise1', histogram_freq=1, batch_size=32,\n",
        "                write_graph=True, write_grads=True, write_images=True),\n",
        "]\n",
        "history = model1.fit(x_train, y_train, batch_size=10, epochs=20, validation_split=0.15,\n",
        "                     callbacks=callbacks, verbose=0)"
      ],
      "execution_count": null,
      "outputs": []
    },
    {
      "cell_type": "code",
      "metadata": {
        "ExecuteTime": {
          "end_time": "2018-09-14T01:00:05.038813Z",
          "start_time": "2018-09-14T01:00:05.018690Z"
        },
        "id": "6lX5a7BSUVkf"
      },
      "source": [
        "model1.evaluate(x_test, y_test)"
      ],
      "execution_count": null,
      "outputs": []
    },
    {
      "cell_type": "code",
      "metadata": {
        "id": "8oIr6hOMXMxc"
      },
      "source": [
        ""
      ],
      "execution_count": null,
      "outputs": []
    },
    {
      "cell_type": "markdown",
      "metadata": {
        "id": "CUkQUr0XUVkl"
      },
      "source": [
        "## Problem 1 \n",
        "\n",
        "The loss is high.  Why is the performance so poor? (Recall, we were able to achieve a test set MAE of roughly $2-3K.) What general lesson can you learn from this example?  \n",
        "\n",
        "Use TensorBoard to help debug the issue."
      ]
    },
    {
      "cell_type": "code",
      "metadata": {
        "id": "yWYcVLwVWkSj"
      },
      "source": [
        ""
      ],
      "execution_count": null,
      "outputs": []
    }
  ]
}